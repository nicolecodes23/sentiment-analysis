{
 "cells": [
  {
   "cell_type": "markdown",
   "id": "a0343d7f-feac-4b6e-b725-0aec66903951",
   "metadata": {},
   "source": [
    "# Programming with Data Project \n",
    "### Installing WebDriver for web scraping\n",
    "1. check chrome browser version by clicking the 3 dots on the top right corner\n",
    "2. click help, then about google chrome\n",
    "3. go to https://sites.google.com/chromium.org/driver/\n",
    "4. find the chromedriver that matches your browser version and download it\n",
    "5. extract the zip file\n",
    "6. setup chrome driver by adding it to your system PATH\n",
    "7. run web scraping code"
   ]
  }
 ],
 "metadata": {
  "kernelspec": {
   "display_name": "Python 3 (ipykernel)",
   "language": "python",
   "name": "python3"
  },
  "language_info": {
   "codemirror_mode": {
    "name": "ipython",
    "version": 3
   },
   "file_extension": ".py",
   "mimetype": "text/x-python",
   "name": "python",
   "nbconvert_exporter": "python",
   "pygments_lexer": "ipython3",
   "version": "3.12.4"
  }
 },
 "nbformat": 4,
 "nbformat_minor": 5
}
